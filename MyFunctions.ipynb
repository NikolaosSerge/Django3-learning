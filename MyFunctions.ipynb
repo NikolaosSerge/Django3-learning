{
 "cells": [
  {
   "cell_type": "code",
   "execution_count": 6,
   "metadata": {},
   "outputs": [],
   "source": [
    "import numpy,random"
   ]
  },
  {
   "cell_type": "code",
   "execution_count": null,
   "metadata": {},
   "outputs": [],
   "source": [
    "def dapply(lst,f):\n",
    "    temp={}\n",
    "    for x in lst:\n",
    "        temp.update({x:f(x)})\n",
    "    return temp"
   ]
  },
  {
   "cell_type": "code",
   "execution_count": 11,
   "metadata": {},
   "outputs": [],
   "source": [
    "def apply(lst,f):\n",
    "    for i in range(0,len(lst)):\n",
    "        lst[i]=f(lst[i])\n",
    "    return lst\n"
   ]
  },
  {
   "cell_type": "code",
   "execution_count": 23,
   "metadata": {},
   "outputs": [],
   "source": [
    "def recapply(lst,f):\n",
    "    if lst == []:return 0\n",
    "    else: lst.append(f(lst[0]))\n",
    "    return recapply(lst[1:],f)"
   ]
  },
  {
   "cell_type": "code",
   "execution_count": 26,
   "metadata": {},
   "outputs": [
    {
     "data": {
      "text/plain": [
       "[2, 3, 4]"
      ]
     },
     "execution_count": 26,
     "metadata": {},
     "output_type": "execute_result"
    }
   ],
   "source": [
    "l=[[1,2],[2,3],[3,4]]\n",
    "p=apply(l,max)\n",
    "p"
   ]
  },
  {
   "cell_type": "code",
   "execution_count": 15,
   "metadata": {},
   "outputs": [],
   "source": [
    "l=list(numpy.random.randint(1,100,200))\n",
    "p=apply(l,lambda x: len(factor(x)) % 2 == 0)\n"
   ]
  },
  {
   "cell_type": "code",
   "execution_count": 3,
   "metadata": {},
   "outputs": [],
   "source": [
    "def factor(x):\n",
    "    return [y for y in range(1,x) if x % y == 0]\n",
    "l=list(numpy.random.randint(1,100,200))\n",
    "p=dapply(l,lambda x: len(factor(x)) % 2 == 0)"
   ]
  },
  {
   "cell_type": "code",
   "execution_count": 14,
   "metadata": {},
   "outputs": [],
   "source": [
    "l=list(numpy.random.randint(1,100,200))\n",
    "p=dapply(l,lambda x: len(factor(x)) % 2 == 0)\n"
   ]
  },
  {
   "cell_type": "code",
   "execution_count": null,
   "metadata": {},
   "outputs": [],
   "source": []
  }
 ],
 "metadata": {
  "kernelspec": {
   "display_name": "Python 3",
   "language": "python",
   "name": "python3"
  },
  "language_info": {
   "codemirror_mode": {
    "name": "ipython",
    "version": 3
   },
   "file_extension": ".py",
   "mimetype": "text/x-python",
   "name": "python",
   "nbconvert_exporter": "python",
   "pygments_lexer": "ipython3",
   "version": "3.7.6"
  }
 },
 "nbformat": 4,
 "nbformat_minor": 4
}
